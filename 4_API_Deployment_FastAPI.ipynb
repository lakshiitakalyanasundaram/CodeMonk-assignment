{
 "cells": [
  {
   "cell_type": "markdown",
   "metadata": {},
   "source": [
    "# API Deployment with FastAPI\n",
    "\n",
    "This notebook demonstrates how to build and test a FastAPI endpoint for serving the fashion product classification model."
   ]
  },
  {
   "cell_type": "code",
   "execution_count": null,
   "metadata": {
    "collapsed": false
   },
   "outputs": [],
   "source": [
    "from fastapi import FastAPI, UploadFile, File\n",
    "from fastapi.responses import JSONResponse\n",
    "import torch\n",
    "from torchvision import transforms\n",
    "from PIL import Image\n",
    "import pickle\n",
    "\n",
    "# Load the trained model\n",
    "model = torch.load('fashion_model.pth')\n",
    "model.eval()\n",
    "\n",
    "# Load label encoders\n",
    "with open('encoders.pkl', 'rb') as f:\n",
    "    encoders = pickle.load(f)\n",
    "\n",
    "# Define image transformations\n",
    "transform = transforms.Compose([\n",
    "    transforms.Resize((224, 224)),\n",
    "    transforms.ToTensor(),\n",
    "])\n",
    "\n",
    "# Initialize FastAPI app\n",
    "app = FastAPI()\n",
    "\n",
    "@app.post(\"/predict/\")\n",
    "async def predict(file: UploadFile = File(...)):\n",
    "    # Load and preprocess the image\n",
    "    image = Image.open(file.file)\n",
    "    image = transform(image).unsqueeze(0)\n",
    "    \n",
    "    # Make prediction\n",
    "    with torch.no_grad():\n",
    "        output = model(image)\n",
    "    \n",
    "    # Decode predictions\n",
    "    _, predicted = torch.max(output, 1)\n",
    "    predicted_label = encoders['label_encoder'].inverse_transform(predicted.numpy())\n",
    "    \n",
    "    return JSONResponse(content={'predicted_label': predicted_label.tolist()})\n",
    "\n",
    "# To run the app, use the command:\n",
    "# !uvicorn filename:app --reload\n",
    "# Replace 'filename' with the name of this notebook without the .ipynb extension."
   ]
  }
 ],
 "metadata": {
  "kernelspec": {
   "display_name": "Python 3",
   "language": "python",
   "name": "python3"
  },
  "language_info": {
   "codemirror_mode": {
    "name": "ipython",
    "version": 3
   },
   "file_extension": ".py",
   "mimetype": "text/x-python",
   "name": "python",
   "nbconvert_exporter": "python",
   "pygments_lexer": "ipython3",
   "version": "3.8.5"
  }
 },
 "nbformat": 4,
 "nbformat_minor": 4
}